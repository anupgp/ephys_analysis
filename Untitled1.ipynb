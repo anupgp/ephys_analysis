{
 "cells": [
  {
   "cell_type": "code",
   "execution_count": 360,
   "id": "5c444a2a-10c0-44a0-8043-ab30320438af",
   "metadata": {},
   "outputs": [],
   "source": [
    "from ephys_class import EphysClass                                                                                                                                        \n",
    "import ephys_class                                                                                                                                                        \n",
    "import ephys_functions as ephysfuns                                                                                                                                       \n",
    "import numpy as np                                                                                                                                                        \n",
    "from matplotlib import pyplot as plt  \n",
    "import matplotlib\n",
    "import pandas as pd                                                                                                                                                       \n",
    "import os                                                                                                                                                                 \n",
    "import re                                                                                                                                                                 \n",
    "import math  \n",
    "from sklearn.decomposition import FastICA\n",
    "%matplotlib widget"
   ]
  },
  {
   "cell_type": "code",
   "execution_count": 108,
   "id": "db4ebb66-63e1-493c-89fb-077ffaf36811",
   "metadata": {},
   "outputs": [
    {
     "data": {
      "text/plain": [
       "array([[1., 0., 0.],\n",
       "       [0., 1., 0.],\n",
       "       [0., 0., 1.]])"
      ]
     },
     "execution_count": 108,
     "metadata": {},
     "output_type": "execute_result"
    }
   ],
   "source": [
    "import numpy as np\n",
    "# help(np.random.binomial)\n",
    "# np.random.binomial(10,0.5)\n",
    "# help(np.random.normal)\n",
    "# r = np.random.normal(10,1,10000)\n",
    "# h,edges = np.histogram(r,density=True)\n",
    "# fh,ah = plt.subplots(nrows=1,ncols=1)\n",
    "# ah.plot(edges[0:-1],h)\n",
    "# help(np.random.gamma)\n",
    "# r = np.random.gamma(10,100,100000)\n",
    "# h,edges = np.histogram(r,density=False)\n",
    "# fh,ah = plt.subplots(nrows=1,ncols=1)\n",
    "# ah.plot(edges[0:-1],h)\n",
    "np.identity(3)**np.array"
   ]
  },
  {
   "cell_type": "code",
   "execution_count": null,
   "id": "269a719d-49e9-4227-bbc4-51b64ec09767",
   "metadata": {},
   "outputs": [],
   "source": []
  },
  {
   "cell_type": "code",
   "execution_count": 2,
   "id": "16c9d7b1-edb4-4856-b6ac-4c882e9a8dd4",
   "metadata": {},
   "outputs": [
    {
     "name": "stdout",
     "output_type": "stream",
     "text": [
      "      expdate         dob   sex animal strain region area    side group  \\\n",
      "0  20200310.0  20200219.0  male    rat     sd     hc  ca1  apical  ctrl   \n",
      "1  20200310.0  20200219.0  male    rat     sd     hc  ca1  apical  ctrl   \n",
      "2  20200310.0  20200219.0  male    rat     sd     hc  ca1  apical  ctrl   \n",
      "3  20200310.0  20200219.0  male    rat     sd     hc  ca1  apical  ctrl   \n",
      "4  20200310.0  20200219.0  male    rat     sd     hc  ca1  apical  ctrl   \n",
      "\n",
      "   neuronid  dendriteid  spineid  unselectfile badsweeps     ephysfile clamp  \\\n",
      "0       1.0         1.0      1.0           NaN       NaN  20310049.abf    vc   \n",
      "1       1.0         1.0      1.0           NaN       NaN  20310051.abf    cc   \n",
      "2       1.0         1.0      1.0           NaN         1  20310052.abf    cc   \n",
      "3       1.0         1.0      1.0           NaN         4  20310053.abf    cc   \n",
      "4       1.0         1.0      1.0           NaN         4  20310054.abf    cc   \n",
      "\n",
      "   stimpower     isi            spinename  \n",
      "0       35.0     0.0  20200310_ctrl_1_1_1  \n",
      "1       35.0  1000.0  20200310_ctrl_1_1_1  \n",
      "2       35.0   100.0  20200310_ctrl_1_1_1  \n",
      "3       35.0   200.0  20200310_ctrl_1_1_1  \n",
      "4       35.0   400.0  20200310_ctrl_1_1_1  \n",
      "['20200310_ctrl_1_1_1' '20200305_ctrl_1_1_1' '20200305_ctrl_1_1_3'\n",
      " '20200305_ctrl_1_1_4' '20200304_ctrl_1_1_1' '20200304_ctrl_1_1_2'\n",
      " '20200304_ctrl_1_1_3' '20200304_ctrl_1_1_4' '20200304_ctrl_2_1_1'\n",
      " '20200304_ctrl_2_1_2' '20200303_ctrl_1_1_1']\n"
     ]
    }
   ],
   "source": [
    "# paths to ephys data                                                                                                                                                     \n",
    "path_ephysdata=\"/home/anup/gdrive-beiquelabdata/Ephys Data/Olympus 2P/Anup/\" # common to all ephys data                                                                   \n",
    "# -------------------------                                                                                                                                               \n",
    "# Ca1 single spine                                                                                                                                                        \n",
    "# path to ephys data master excelfile                                                                                                                                     \n",
    "path_masterdf=\"/home/anup/goofy/data/beiquelab/hc_ca1_glu_uncage_spine_single_epsp/\" # local to the ephys project: Ca1 single spine                                       \n",
    "file_masterdf = \"hc_ca1_glu_uncage_spine_single_mastersheet.xlsx\" # local to the ephys project                                                                            \n",
    "dfname = \"hc_ca1_glu_uncage_spine_single_masterdata.csv\"           # local to the ephys project                                                                           \n",
    "isi_template_vc = [0,500,800,1000] # Only sweeps with these ISI's are used for creating the template                                                                      \n",
    "isi_template_cc = [600,800,1000] # Only sweeps with these ISI's are used for creating the template   \n",
    "# specify columns to load                                                                                                                                                 \n",
    "loadcolumns1 = [\"expdate\",\"dob\",\"sex\",\"animal\",\"strain\",\"region\",\"area\",\"side\",\"group\",\"neuronid\",\"dendriteid\",\"spineid\"]                                                 \n",
    "loadcolumns2 = [\"unselectfile\",\"badsweeps\",\"ephysfile\",\"clamp\",\"stimpower\",\"isi\"]                                                                                         \n",
    "loadcolumns = loadcolumns1 + loadcolumns2                                                                                                                                 \n",
    "masterdf = pd.read_excel(os.path.join(path_masterdf,file_masterdf),header=0,usecols=loadcolumns,index_col=None,sheet_name=0)                                              \n",
    "masterdf = masterdf.dropna(how='all') # drop rows with all empty columns                                                                                                  \n",
    "masterdf = masterdf.reset_index(drop=True) # don't increment index for empty rows                                                                                         \n",
    "# remove files that are marked to unselect from analysis                                                                                                                  \n",
    "masterdf = masterdf[masterdf[\"unselectfile\"]!=1]                                                                                                                          \n",
    "# create a unique spine name                                                                                                                                              \n",
    "masterdf[\"spinename\"] = ephysfuns.combine_columns(masterdf,['expdate','group','neuronid','dendriteid','spineid'])                                                         \n",
    "spines = masterdf[\"spinename\"].unique()                                                                                                                                   \n",
    "print(masterdf.head())                                                                                                                                                           \n",
    "print(spines)                                                                                                                                                             \n",
    "roidf = pd.DataFrame()     "
   ]
  },
  {
   "cell_type": "code",
   "execution_count": 3,
   "id": "7d92a4db-bb20-4bf3-8da3-dc94d65daab8",
   "metadata": {},
   "outputs": [],
   "source": [
    "# provide channel names                                                                                                                                                   \n",
    "reschannel = \"ImLEFT\"                                                                                                                                                     \n",
    "clampchannel = \"IN1\"                                                                                                                                                      \n",
    "stimchannel = \"IN7\"                                                                                                                                                       \n",
    "ephysfile_ext = \"abf\"                                                                                                                                                     \n",
    "prestim_cc = 0.0                # trace duration prestim                                                                                                                  \n",
    "poststim_cc = 0.1                 # trace duration poststim                                                                                                               \n",
    "stimdur_cc = poststim_cc-prestim_cc      # trace duration                                                                                                                 \n",
    "prestim_vc = 0.0                         # trace duration prestim                                                                                                         \n",
    "poststim_vc = 0.05                 # trace duration poststim                                                                                                              \n",
    "stimdur_vc = poststim_vc-prestim_vc      # trace duration   "
   ]
  },
  {
   "cell_type": "code",
   "execution_count": 4,
   "id": "e0246aad-4dc8-4812-b92f-62b60948c973",
   "metadata": {},
   "outputs": [
    {
     "name": "stderr",
     "output_type": "stream",
     "text": [
      "the default signal_group_mode will change from 'split-all' to 'group-by-same-units' in next release\n"
     ]
    },
    {
     "name": "stdout",
     "output_type": "stream",
     "text": [
      "spine: 20200310_ctrl_1_1_1\n",
      "/home/anup/gdrive-beiquelabdata/Ephys Data/Olympus 2P/Anup/20200310/C1/20310051.abf\n",
      "badsweeps:  []\n",
      "[{'neg': array([0], dtype=uint64), 'pos': array([0], dtype=uint64)}, {'neg': array([0], dtype=uint64), 'pos': array([0], dtype=uint64)}, {'neg': array([0], dtype=uint64), 'pos': array([0], dtype=uint64)}, {'neg': array([0], dtype=uint64), 'pos': array([0], dtype=uint64)}]\n",
      "[{'neg': array([1937]), 'pos': array([5937])}, {'neg': array([1937]), 'pos': array([5937])}, {'neg': array([1937]), 'pos': array([5937])}, {'neg': array([1937]), 'pos': array([5937])}]\n",
      "[{'nstim': 2, 'isi': 1.0001, 'istims': [18940, 38942], 'tstims': [0.9470000000000001, 1.9471]}, {'nstim': 2, 'isi': 1.0001000000000002, 'istims': [18941, 38943], 'tstims': [0.9470500000000001, 1.9471500000000002]}, {'nstim': 2, 'isi': 1.00015, 'istims': [18940, 38943], 'tstims': [0.9470000000000001, 1.9471500000000002]}, {'nstim': 2, 'isi': 1.0001000000000002, 'istims': [18941, 38943], 'tstims': [0.9470500000000001, 1.9471500000000002]}]\n",
      "(32000, 2)\n"
     ]
    },
    {
     "data": {
      "application/vnd.jupyter.widget-view+json": {
       "model_id": "51b04a17629149a6a433d8d3df7797a1",
       "version_major": 2,
       "version_minor": 0
      },
      "text/plain": [
       "Canvas(toolbar=Toolbar(toolitems=[('Home', 'Reset original view', 'home', 'home'), ('Back', 'Back to previous …"
      ]
     },
     "metadata": {},
     "output_type": "display_data"
    },
    {
     "ename": "KeyboardInterrupt",
     "evalue": "Interrupted by user",
     "output_type": "error",
     "traceback": [
      "\u001b[0;31m---------------------------------------------------------------------------\u001b[0m",
      "\u001b[0;31mKeyboardInterrupt\u001b[0m                         Traceback (most recent call last)",
      "\u001b[0;32m<ipython-input-4-e51c4926bcf6>\u001b[0m in \u001b[0;36m<module>\u001b[0;34m\u001b[0m\n\u001b[1;32m     26\u001b[0m         \u001b[0;31m# fh,ah,peaks = ephys.deconvolve_template(reschannel,stimchannel,t[0:tracelen],temptrace_cc,\"pos\",spines[ispine],path_fig)\u001b[0m\u001b[0;34m\u001b[0m\u001b[0;34m\u001b[0m\u001b[0;34m\u001b[0m\u001b[0m\n\u001b[1;32m     27\u001b[0m         \u001b[0mephys\u001b[0m\u001b[0;34m.\u001b[0m\u001b[0mtest\u001b[0m\u001b[0;34m(\u001b[0m\u001b[0;34m)\u001b[0m\u001b[0;34m\u001b[0m\u001b[0;34m\u001b[0m\u001b[0m\n\u001b[0;32m---> 28\u001b[0;31m         \u001b[0minput\u001b[0m\u001b[0;34m(\u001b[0m\u001b[0;34m)\u001b[0m\u001b[0;34m\u001b[0m\u001b[0;34m\u001b[0m\u001b[0m\n\u001b[0m",
      "\u001b[0;32m~/.local/lib/python3.6/site-packages/ipykernel/kernelbase.py\u001b[0m in \u001b[0;36mraw_input\u001b[0;34m(self, prompt)\u001b[0m\n\u001b[1;32m    858\u001b[0m             \u001b[0mself\u001b[0m\u001b[0;34m.\u001b[0m\u001b[0m_parent_ident\u001b[0m\u001b[0;34m,\u001b[0m\u001b[0;34m\u001b[0m\u001b[0;34m\u001b[0m\u001b[0m\n\u001b[1;32m    859\u001b[0m             \u001b[0mself\u001b[0m\u001b[0;34m.\u001b[0m\u001b[0m_parent_header\u001b[0m\u001b[0;34m,\u001b[0m\u001b[0;34m\u001b[0m\u001b[0;34m\u001b[0m\u001b[0m\n\u001b[0;32m--> 860\u001b[0;31m             \u001b[0mpassword\u001b[0m\u001b[0;34m=\u001b[0m\u001b[0;32mFalse\u001b[0m\u001b[0;34m,\u001b[0m\u001b[0;34m\u001b[0m\u001b[0;34m\u001b[0m\u001b[0m\n\u001b[0m\u001b[1;32m    861\u001b[0m         )\n\u001b[1;32m    862\u001b[0m \u001b[0;34m\u001b[0m\u001b[0m\n",
      "\u001b[0;32m~/.local/lib/python3.6/site-packages/ipykernel/kernelbase.py\u001b[0m in \u001b[0;36m_input_request\u001b[0;34m(self, prompt, ident, parent, password)\u001b[0m\n\u001b[1;32m    899\u001b[0m             \u001b[0;32mexcept\u001b[0m \u001b[0mKeyboardInterrupt\u001b[0m\u001b[0;34m:\u001b[0m\u001b[0;34m\u001b[0m\u001b[0;34m\u001b[0m\u001b[0m\n\u001b[1;32m    900\u001b[0m                 \u001b[0;31m# re-raise KeyboardInterrupt, to truncate traceback\u001b[0m\u001b[0;34m\u001b[0m\u001b[0;34m\u001b[0m\u001b[0;34m\u001b[0m\u001b[0m\n\u001b[0;32m--> 901\u001b[0;31m                 \u001b[0;32mraise\u001b[0m \u001b[0mKeyboardInterrupt\u001b[0m\u001b[0;34m(\u001b[0m\u001b[0;34m\"Interrupted by user\"\u001b[0m\u001b[0;34m)\u001b[0m \u001b[0;32mfrom\u001b[0m \u001b[0;32mNone\u001b[0m\u001b[0;34m\u001b[0m\u001b[0;34m\u001b[0m\u001b[0m\n\u001b[0m\u001b[1;32m    902\u001b[0m             \u001b[0;32mexcept\u001b[0m \u001b[0mException\u001b[0m \u001b[0;32mas\u001b[0m \u001b[0me\u001b[0m\u001b[0;34m:\u001b[0m\u001b[0;34m\u001b[0m\u001b[0;34m\u001b[0m\u001b[0m\n\u001b[1;32m    903\u001b[0m                 \u001b[0mself\u001b[0m\u001b[0;34m.\u001b[0m\u001b[0mlog\u001b[0m\u001b[0;34m.\u001b[0m\u001b[0mwarning\u001b[0m\u001b[0;34m(\u001b[0m\u001b[0;34m\"Invalid Message:\"\u001b[0m\u001b[0;34m,\u001b[0m \u001b[0mexc_info\u001b[0m\u001b[0;34m=\u001b[0m\u001b[0;32mTrue\u001b[0m\u001b[0;34m)\u001b[0m\u001b[0;34m\u001b[0m\u001b[0;34m\u001b[0m\u001b[0m\n",
      "\u001b[0;31mKeyboardInterrupt\u001b[0m: Interrupted by user"
     ]
    }
   ],
   "source": [
    "# for ispine in range(0,len(spines)):                                                                                                                                     \n",
    "for ispine in range(0,len(spines)):                                                                                                                                       \n",
    "    print(\"spine: {}\".format(spines[ispine]))                                                                                                                             \n",
    "    dfspine = masterdf.loc[masterdf[\"spinename\"] == spines[ispine]]                                                                                                       \n",
    "    dfspine = dfspine.reset_index()                                                                                                                                       \n",
    "#     print(dfspine.head())   \n",
    "    # get all voltage/current clamp ephysfiles for each spine                                                                                                             \n",
    "    ephysfiles_vc =  list(dfspine[dfspine[\"clamp\"] == \"vc\"][\"ephysfile\"])                                                                                                 \n",
    "    ephysfiles_cc =  list(dfspine[dfspine[\"clamp\"] == \"cc\"][\"ephysfile\"])                                                                                                 \n",
    "    ephysfiles = ephysfiles_vc + ephysfiles_cc                                                                                                                            \n",
    "#     print(ephysfiles)                      \n",
    "    for iephysfile in range(len(ephysfiles_cc)):                                                                                                                             \n",
    "        spineid = spines[ispine]                                                                                                                                          \n",
    "        ephysfile = ephysfiles_cc[iephysfile]                                                                                                                                \n",
    "        neuronid = list(dfspine.loc[dfspine[\"ephysfile\"] == ephysfile,\"neuronid\"].astype(int).astype(str))[0]                                                             \n",
    "        expdate = list(dfspine.loc[dfspine[\"ephysfile\"] == ephysfile,\"expdate\"].astype(int).astype(str))[0]                                                               \n",
    "        fnamefull = os.path.join(path_ephysdata,expdate,\"\".join((\"C\",neuronid)),ephysfile)                                                                                \n",
    "        print(fnamefull)   \n",
    "        badsweeps = list(dfspine.loc[dfspine[\"ephysfile\"] == ephysfile,\"badsweeps\"].astype(str))[0].split(',')                                                            \n",
    "        badsweeps = [int(float(item))-1 for item in badsweeps if item != 'nan'] # trace 1 has index 0                                                                     \n",
    "        print(\"badsweeps: \",np.array(badsweeps)+1)                                                                                                                        \n",
    "        ephys = EphysClass(fnamefull,loaddata=True,badsweeps=badsweeps,clampch=clampchannel,resch=reschannel,stimch=stimchannel)                                          \n",
    "        ephys.extract_indices_holdingsteps(clampchannel,1,1)                                                                                                              \n",
    "        ephys.extract_stim_props(stimchannel)                                                                                                                             \n",
    "        ephys.extract_res_props(reschannel,stimchannel)                                                                                                                                          \n",
    "        # fh,ah,peaks = ephys.deconvolve_template(reschannel,stimchannel,t[0:tracelen],temptrace_cc,\"pos\",spines[ispine],path_fig)                                    \n",
    "        ephys.test()                                                       \n",
    "        input()"
   ]
  },
  {
   "cell_type": "code",
   "execution_count": 2,
   "id": "0cad4992-9ab5-41c1-8152-0056917249d8",
   "metadata": {},
   "outputs": [
    {
     "name": "stdout",
     "output_type": "stream",
     "text": [
      "102.76790337193344 13.664961000720474\n"
     ]
    },
    {
     "data": {
      "text/plain": [
       "[<matplotlib.lines.Line2D at 0x7f007b22ce48>]"
      ]
     },
     "execution_count": 2,
     "metadata": {},
     "output_type": "execute_result"
    },
    {
     "data": {
      "image/png": "[encoded data removed]",
      "text/plain": [
       "<Figure size 432x288 with 1 Axes>"
      ]
     },
     "metadata": {
      "needs_background": "light"
     },
     "output_type": "display_data"
    }
   ],
   "source": [
    "# test MCMC\n",
    "import numpy as np\n",
    "from matplotlib import pyplot as plt\n",
    "N = 1000\n",
    "x = 150\n",
    "sigma = 15\n",
    "d = 100\n",
    "X = []\n",
    "def norm_pdf(x,mean,sd):\n",
    "    p = np.exp(-0.5*((x-mean)/sd)**2)/(sd*(2*np.pi)**0.5)\n",
    "    return(p)\n",
    "count = 0\n",
    "X.append(x)\n",
    "while count<N:\n",
    "    x_new = x + np.random.normal(0,5,1) \n",
    "    h = norm_pdf(d,x,sigma)\n",
    "    h_new = norm_pdf(d,x_new,sigma)\n",
    "    if ((h_new > h) or (((h-h_new)/h) < np.random.uniform(0,1,1))):\n",
    "        x = x_new\n",
    "        X.append(x[0])\n",
    "        count+=1\n",
    "X = np.array(X)\n",
    "# print(norm_pdf(7,5,5))\n",
    "print(X.mean(),X.std())\n",
    "fh = plt.figure()\n",
    "ah = fh.add_subplot(111)\n",
    "ah.plot(X)\n",
    "# x = np.linspace(-10,10,1000)\n",
    "# p = [norm_pdf(item,0,3) for item in x]\n",
    "# ah.plot(x,p)\n",
    "# print(np.trapz(p,x))"
   ]
  },
  {
   "cell_type": "code",
   "execution_count": 23,
   "id": "adb45951-0492-482a-9afe-3c5020f89042",
   "metadata": {},
   "outputs": [
    {
     "data": {
      "text/plain": [
       "[<matplotlib.lines.Line2D at 0x7f005b733d68>]"
      ]
     },
     "execution_count": 23,
     "metadata": {},
     "output_type": "execute_result"
    },
    {
     "data": {
      "image/png": "[encoded data removed]",
      "text/plain": [
       "<Figure size 432x288 with 1 Axes>"
      ]
     },
     "metadata": {
      "needs_background": "light"
     },
     "output_type": "display_data"
    }
   ],
   "source": [
    "# test mcmc multivariable\n",
    "from scipy.stats import norm\n",
    "# print(dir(scipy.stats))\n",
    "x1 = -2.2\n",
    "fh = plt.figure()\n",
    "ah = fh.add_subplot(111)\n",
    "x = np.linspace(-10,10,100)\n",
    "p = norm(0,1).pdf(x)\n",
    "c = norm(0,1).cdf(x)\n",
    "ah.plot(x,p)\n",
    "ah.plot(x,c)\n",
    "ah.plot(x1,norm(0,1).pdf(x1),'o')\n",
    "ah.plot(x1,norm(0,1).cdf(x1),'o')\n",
    "\n"
   ]
  },
  {
   "cell_type": "code",
   "execution_count": 86,
   "id": "4886c7fb-8805-4f0d-a170-2266cb3020b8",
   "metadata": {},
   "outputs": [
    {
     "name": "stdout",
     "output_type": "stream",
     "text": [
      "[ 1  2  3  4  5  6  7  8  9 10 11 12 13 14 15]\n",
      "[4.57763672e-04 3.20434570e-03 1.38854980e-02 4.16564941e-02\n",
      " 9.16442871e-02 1.52740479e-01 1.96380615e-01 1.96380615e-01\n",
      " 1.52740479e-01 9.16442871e-02 4.16564941e-02 1.38854980e-02\n",
      " 3.20434570e-03 4.57763672e-04 3.05175781e-05]\n",
      "[4.57763672e-04 3.20434570e-03 1.38854980e-02 4.16564941e-02\n",
      " 9.16442871e-02 1.52740479e-01 1.96380615e-01 1.96380615e-01\n",
      " 1.52740479e-01 9.16442871e-02 4.16564941e-02 1.38854980e-02\n",
      " 3.20434570e-03 4.57763672e-04 3.05175781e-05]\n",
      "[-1.15816262 -1.48610632]\n"
     ]
    },
    {
     "data": {
      "image/png": "[encoded data removed]",
      "text/plain": [
       "<Figure size 432x288 with 1 Axes>"
      ]
     },
     "metadata": {
      "needs_background": "light"
     },
     "output_type": "display_data"
    }
   ],
   "source": [
    "from scipy.stats import binom\n",
    "from scipy.stats import norm\n",
    "x = np.arange(1,16)\n",
    "# print(help(binom))\n",
    "print(x)\n",
    "p = binom(15,0.5).pmf(x)\n",
    "logp = binom(15,0.5).logpmf(x)\n",
    "print(p)\n",
    "print(np.exp(logp))\n",
    "fh = plt.figure()\n",
    "ah = fh.add_subplot(111)\n",
    "ah.plot(x,p)\n",
    "print(norm().rvs(2))"
   ]
  },
  {
   "cell_type": "code",
   "execution_count": 459,
   "id": "3e4962d8-33a7-4706-a9e0-8c049dd33272",
   "metadata": {},
   "outputs": [
    {
     "data": {
      "application/vnd.jupyter.widget-view+json": {
       "model_id": "3a0086f19b3e4796ae6de73ab0d6ced4",
       "version_major": 2,
       "version_minor": 0
      },
      "text/plain": [
       "Canvas(toolbar=Toolbar(toolitems=[('Home', 'Reset original view', 'home', 'home'), ('Back', 'Back to previous …"
      ]
     },
     "metadata": {},
     "output_type": "display_data"
    },
    {
     "data": {
      "application/vnd.jupyter.widget-view+json": {
       "model_id": "92685b71077144fcae27ba7111360f99",
       "version_major": 2,
       "version_minor": 0
      },
      "text/plain": [
       "Canvas(toolbar=Toolbar(toolitems=[('Home', 'Reset original view', 'home', 'home'), ('Back', 'Back to previous …"
      ]
     },
     "metadata": {},
     "output_type": "display_data"
    },
    {
     "data": {
      "application/vnd.jupyter.widget-view+json": {
       "model_id": "189142d965934afc888fa08326f6014e",
       "version_major": 2,
       "version_minor": 0
      },
      "text/plain": [
       "Canvas(toolbar=Toolbar(toolitems=[('Home', 'Reset original view', 'home', 'home'), ('Back', 'Back to previous …"
      ]
     },
     "metadata": {},
     "output_type": "display_data"
    },
    {
     "data": {
      "text/plain": [
       "[<matplotlib.lines.Line2D at 0x7f004806b278>]"
      ]
     },
     "execution_count": 459,
     "metadata": {},
     "output_type": "execute_result"
    }
   ],
   "source": [
    "# Metropolis-Hasting Algorithmn for two parameters\n",
    "from scipy.stats import norm\n",
    "def create_joint_dist(parameters,data):\n",
    "    Nhits,Nfa,Npresent,Nabsent = data\n",
    "    Cdash,sens = parameters\n",
    "    p_hits = norm().cdf(Cdash-sens)\n",
    "    p_fa = 1-norm().cdf(sens)\n",
    "    lh_fa = binom(Nabsent,p_fa).pmf(Nfa)\n",
    "    lh_hits = binom(Npresent,p_hits).pmf(Nhits)\n",
    "    prior_hits = norm(0,4).pdf(Cdash-sens)\n",
    "    prior_fa = norm(0,4).pdf(sens)\n",
    "#     print(lh_hits,lh_fa)\n",
    "    log_joint_pdf = np.log(lh_hits) + np.log(prior_hits) + np.log(lh_fa) + np.log(prior_fa)\n",
    "    joint_pdf = np.exp(log_joint_pdf)\n",
    "    return(joint_pdf)\n",
    "# ------------------------------\n",
    "N = 500\n",
    "params = np.zeros((N,2))\n",
    "Npresent=100\n",
    "Nabsent=100\n",
    "Nhits=85\n",
    "Nfa=12\n",
    "data = (Nhits,Nfa,Npresent,Nabsent)\n",
    "old_proposal = np.array([0.5,1])\n",
    "count = 0\n",
    "while count < N:\n",
    "    new_proposal = old_proposal + norm(0,0.1).rvs(2)\n",
    "    new_jointprob = create_joint_dist(new_proposal,data)\n",
    "    old_jointprob = create_joint_dist(old_proposal,data)\n",
    "    lh_ratio = new_jointprob/old_jointprob\n",
    "#     print(lh_ratio)\n",
    "    if(np.random.uniform(0,1,1) < lh_ratio):\n",
    "        params[count,:] = new_proposal \n",
    "        old_proposal = new_proposal\n",
    "        count = count + 1\n",
    "# print(params)\n",
    "\n",
    "plt.close('all')\n",
    "fh = plt.figure()\n",
    "ah = fh.add_subplot(111)\n",
    "ah.plot(params[:,0],params[:,1],'o')\n",
    "fh = plt.figure()\n",
    "ah = fh.add_subplot(111)\n",
    "ah.plot(params[:,0])\n",
    "fh = plt.figure()\n",
    "ah = fh.add_subplot(111)\n",
    "ah.plot(params[:,1])"
   ]
  },
  {
   "cell_type": "code",
   "execution_count": 510,
   "id": "c8434bd9-06f7-454a-a2e0-6264cfe8967a",
   "metadata": {},
   "outputs": [],
   "source": [
    "# Metropolis-hasting within Gibbs approach\n",
    "def joint_pdf(data,param):\n",
    "    nhit = data[\"nhit\"]\n",
    "    nfa = data[\"nfa\"]\n",
    "    npres = data[\"npres\"]\n",
    "    nabs = data[\"nabs\"]\n",
    "#   -----------------\n",
    "    sens = param[\"sens\"]\n",
    "    dist = param[\"dist\"]\n",
    "#   ------------------\n",
    "    p_fa = 1-norm().cdf(sens)\n",
    "    p_hit = norm().cdf(dist-sens)\n",
    "    l_fa = binom(nabs,p_fa).pmf(nfa)\n",
    "    l_hit = binom(npres,p_hit).pmf(nhit)\n",
    "    pr_sens = norm(0,4).pdf(sens)\n",
    "    pr_dist = norm(0,4).pdf(dist)\n",
    "    p_joint = np.exp(np.log(l_fa) + np.log(l_hit) + np.log(pr_sens) + np.log(pr_dist))\n",
    "    return(p_joint)\n",
    "# -----------------\n",
    "data = {}\n",
    "data[\"npres\"] = 100\n",
    "data[\"nabs\"] = 100\n",
    "data[\"nhit\"] = 85\n",
    "data[\"nfa\"] = 12\n",
    "old_param = {}\n",
    "old_param[\"sens\"] = 0.5\n",
    "old_param[\"dist\"] = 1\n",
    "new_param = old_param.copy()\n",
    "nruns = 500\n",
    "nvals = 2\n",
    "values = {\"sens\": np.zeros(nruns),\"dist\":np.zeros(nruns)}\n",
    "rejects = {\"sens\": [],\"dist\":[]}\n",
    "for r in range(nruns): \n",
    "    for key in param.keys():\n",
    "        old_lh = joint_pdf(data,old_param)\n",
    "        new_param[key] = old_param[key] + norm(0,0.1).rvs(1)\n",
    "        new_lh = joint_pdf(data,new_param)\n",
    "        lh_ratio = new_lh/old_lh\n",
    "        if (lh_ratio > np.random.uniform(0,1)):\n",
    "            rejects[key].append(old_param[key])\n",
    "            old_param[key] = new_param[key] \n",
    "        else:\n",
    "            rejects[key].append(new_param[key])\n",
    "        #}\n",
    "        values[key][r] = old_param[key]\n",
    "    #}\n",
    "#}\n",
    "rejects[\"sens\"] = np.array(rejects[\"sens\"])\n",
    "rejects[\"dist\"] = np.array(rejects[\"dist\"])\n",
    "    \n",
    "    "
   ]
  },
  {
   "cell_type": "code",
   "execution_count": 519,
   "id": "11ac28e9-51ba-40c5-9e2f-72726e928bc4",
   "metadata": {},
   "outputs": [
    {
     "data": {
      "application/vnd.jupyter.widget-view+json": {
       "model_id": "4e5e4546ea7f4573a9b8302f4b38ca13",
       "version_major": 2,
       "version_minor": 0
      },
      "text/plain": [
       "Canvas(toolbar=Toolbar(toolitems=[('Home', 'Reset original view', 'home', 'home'), ('Back', 'Back to previous …"
      ]
     },
     "metadata": {},
     "output_type": "display_data"
    },
    {
     "name": "stdout",
     "output_type": "stream",
     "text": [
      "(500,) (500,)\n"
     ]
    }
   ],
   "source": [
    "plt.close('all')\n",
    "fh = plt.figure()\n",
    "ah = fh.add_subplot(131)\n",
    "ah.plot(rejects[\"dist\"],\"red\")\n",
    "ah.plot(values[\"dist\"],color=\"green\",alpha=0.5)\n",
    "\n",
    "ah = fh.add_subplot(132)\n",
    "ah.plot(rejects[\"sens\"],\"red\")\n",
    "ah.plot(values[\"sens\"],color=\"green\",alpha=0.5)\n",
    "\n",
    "ah = fh.add_subplot(133)\n",
    "ah.plot(rejects[\"dist\"],rejects[\"sens\"],'o',color='red')\n",
    "ah.plot(values[\"dist\"],values[\"sens\"],'o',alpha=0.5,color=\"green\")\n",
    "print(rejects[\"dist\"].shape,rejects[\"sens\"].shape)"
   ]
  },
  {
   "cell_type": "code",
   "execution_count": 245,
   "id": "348998ad-2226-4bf2-b948-628759d8ddb4",
   "metadata": {},
   "outputs": [
    {
     "name": "stdout",
     "output_type": "stream",
     "text": [
      "['c', 'a', 't', 'b', 's', 'i', 'e', 'r', 'u', 'n', 'm', 'd', 'o', 'g', 'v', 'l', 'p', 'h', 'j', 'w', 'k', 'y', 'f']\n",
      "23\n",
      "{'c': 6, 'a': 23, 't': 23, 'b': 9, 's': 10, 'i': 14, 'e': 15, 'r': 10, 'u': 14, 'n': 15, 'm': 8, 'd': 8, 'o': 15, 'g': 9, 'v': 1, 'l': 4, 'p': 11, 'h': 10, 'j': 1, 'w': 4, 'k': 3, 'y': 2, 'f': 4}\n",
      "219 219\n",
      "{'cat': 1, 'bat': 1, 'sit': 1, 'eat': 1, 'run': 1, 'man': 1, 'dog': 1, 'are': 1, 'can': 1, 'van': 1, 'car': 1, 'bar': 1, 'lot': 1, 'put': 1, 'but': 1, 'cut': 1, 'mud': 1, 'bud': 1, 'sad': 1, 'log': 1, 'cod': 1, 'pig': 1, 'gum': 1, 'sum': 1, 'bun': 1, 'mug': 1, 'pan': 1, 'bus': 1, 'see': 1, 'pin': 1, 'not': 1, 'ton': 1, 'sob': 1, 'hat': 1, 'pet': 1, 'mat': 1, 'hit': 1, 'hen': 1, 'sun': 1, 'jar': 1, 'was': 1, 'rat': 1, 'him': 1, 'her': 1, 'has': 1, 'had': 1, 'who': 1, 'how': 1, 'kid': 1, 'son': 1, 'eye': 1, 'tie': 1, 'egg': 1, 'ear': 1, 'leg': 1, 'kik': 1, 'pen': 1, 'fan': 1, 'bit': 1, 'ham': 1, 'ban': 1, 'top': 1, 'tip': 1, 'cow': 1, 'pit': 1, 'fur': 1, 'fig': 1, 'rot': 1, 'fat': 1, 'pot': 1, 'lid': 1, 'you': 1, 'pie': 1}\n",
      "total words:  73\n"
     ]
    },
    {
     "data": {
      "image/png": "[encoded data removed]",
      "text/plain": [
       "<Figure size 432x288 with 1 Axes>"
      ]
     },
     "metadata": {
      "needs_background": "light"
     },
     "output_type": "display_data"
    }
   ],
   "source": [
    "words=['cat','bat','sit','eat','run','man','dog','are','can','van','car','bar',\n",
    "      'lot','put','but','cut','mud','bud','sad','log','cod','pig','gum','sum',\n",
    "      'bun','mug','pan','bus','see','pin','not','ton','sob','hat','pet','mat',\n",
    "      'hit','hen','sun','jar','was','rat','him','her','has','had','who','how',\n",
    "      'kid','son','eye','tie','egg','ear','leg','kik','pen','fan','bit',\n",
    "      'ham','ban','top','tip','cow','pit','fur','fig','rot','fat','pot','lid',\n",
    "      'you','pie']\n",
    "mydist={}\n",
    "worddict = {}\n",
    "for word in words:\n",
    "    wordkeys = list(worddict.keys())\n",
    "    wordfound = [key == word for key in wordkeys]\n",
    "#     print(wordfound,worddict)\n",
    "    if (len(wordfound)==0 or any(wordfound) == False):\n",
    "        wordfound = False\n",
    "        worddict[word] = 1\n",
    "    else:\n",
    "        wordfound = any(wordfound)\n",
    "        worddict[word] = worddict[word] + 1\n",
    "#    --------------------\n",
    "    for letter in list(word):\n",
    "        keys = list(mydist.keys())\n",
    "        keyfound = [key == letter for key in keys]\n",
    "#         print(keyfound)\n",
    "        if (len(keyfound)==0):\n",
    "            keyfound = False\n",
    "        else:\n",
    "            keyfound = any(keyfound)\n",
    "#         print(letter,keyfound,keys,mydist)\n",
    "        if (keyfound):\n",
    "            mydist[letter] = mydist[letter] + 1\n",
    "        else:\n",
    "            mydist[letter] = 1\n",
    "            \n",
    "print(list(mydist.keys()))\n",
    "print(len(list(mydist.keys())))\n",
    "print(mydist)\n",
    "count = 0\n",
    "for key in list(mydist.keys()):\n",
    "    count = count + mydist[key]\n",
    "print(count,len(words)*3)\n",
    "print(worddict)\n",
    "print('total words: ',len(list(worddict.keys())))\n",
    "fh = plt.figure()\n",
    "ah = fh.add_subplot(111)\n",
    "for key in list(mydist.keys()):\n",
    "    ah.bar(key,mydist[key])"
   ]
  },
  {
   "cell_type": "code",
   "execution_count": 542,
   "id": "ce6ee152-431b-4466-9fe7-f63ff75dbca2",
   "metadata": {},
   "outputs": [
    {
     "name": "stdout",
     "output_type": "stream",
     "text": [
      "12\n",
      "13\n",
      "13\n",
      "['N', '__call__', '__class__', '__copy__', '__delattr__', '__dict__', '__dir__', '__doc__', '__eq__', '__format__', '__ge__', '__getattribute__', '__gt__', '__hash__', '__init__', '__init_subclass__', '__le__', '__lt__', '__module__', '__ne__', '__new__', '__reduce__', '__reduce_ex__', '__repr__', '__setattr__', '__sizeof__', '__str__', '__subclasshook__', '__weakref__', '_global', '_i_bad', '_i_over', '_i_under', '_init', '_isinit', '_resample', '_rgba_bad', '_rgba_over', '_rgba_under', '_set_extremes', 'colorbar_extend', 'colors', 'is_gray', 'monochrome', 'name', 'reversed', 'set_bad', 'set_over', 'set_under']\n",
      "12\n",
      "(0.6509803921568628, 0.807843137254902, 0.8901960784313725)\n",
      "16200.0\n",
      "[1 2 2 1]\n",
      "[0 3 1 2]\n",
      "1.0\n",
      "[[1 4 7 3 1]\n",
      " [8 0 6 5 3]\n",
      " [4 1 0 0 4]\n",
      " [0 7 7 7 6]]\n"
     ]
    },
    {
     "ename": "NameError",
     "evalue": "name 'ma' is not defined",
     "output_type": "error",
     "traceback": [
      "\u001b[0;31m---------------------------------------------------------------------------\u001b[0m",
      "\u001b[0;31mNameError\u001b[0m                                 Traceback (most recent call last)",
      "\u001b[0;32m<ipython-input-542-ef3afccb441e>\u001b[0m in \u001b[0;36m<module>\u001b[0;34m\u001b[0m\n\u001b[1;32m     21\u001b[0m \u001b[0mprint\u001b[0m\u001b[0;34m(\u001b[0m\u001b[0md3\u001b[0m\u001b[0;34m)\u001b[0m\u001b[0;34m\u001b[0m\u001b[0;34m\u001b[0m\u001b[0m\n\u001b[1;32m     22\u001b[0m \u001b[0misweep\u001b[0m \u001b[0;34m=\u001b[0m \u001b[0mnp\u001b[0m\u001b[0;34m.\u001b[0m\u001b[0marray\u001b[0m\u001b[0;34m(\u001b[0m\u001b[0;34m[\u001b[0m\u001b[0;36m3\u001b[0m\u001b[0;34m,\u001b[0m\u001b[0;36m4\u001b[0m\u001b[0;34m,\u001b[0m\u001b[0;36m2\u001b[0m\u001b[0;34m,\u001b[0m\u001b[0;36m4\u001b[0m\u001b[0;34m]\u001b[0m\u001b[0;34m)\u001b[0m\u001b[0;34m\u001b[0m\u001b[0;34m\u001b[0m\u001b[0m\n\u001b[0;32m---> 23\u001b[0;31m \u001b[0mindex1\u001b[0m \u001b[0;34m=\u001b[0m \u001b[0mnp\u001b[0m\u001b[0;34m.\u001b[0m\u001b[0marange\u001b[0m\u001b[0;34m(\u001b[0m\u001b[0;36m0\u001b[0m\u001b[0;34m,\u001b[0m\u001b[0mma\u001b[0m\u001b[0;34m)\u001b[0m\u001b[0;34m\u001b[0m\u001b[0;34m\u001b[0m\u001b[0m\n\u001b[0m",
      "\u001b[0;31mNameError\u001b[0m: name 'ma' is not defined"
     ]
    }
   ],
   "source": [
    "d1 = {\"a\":1,\"b\":2,\"c\":3}\n",
    "d2 = {'a': lambda x: d1['a'] + x,'b': lambda x: d1['b'] + x,\n",
    "      'c': lambda x: d1['c'] + x} # labourous version\n",
    "print(d2['b'](10))\n",
    "def myfunc(d,key,x):\n",
    "    return(lambda x: d[key] + x)\n",
    "d3={key:myfunc(d1,key,x) for key in d1.keys()} # smart version\n",
    "print(d2['c'](10))\n",
    "print(d3['c'](10))\n",
    "cmap = matplotlib.cm.get_cmap('Paired')\n",
    "print(dir(cmap))\n",
    "print(len(cmap.colors))\n",
    "print(cmap.colors[0])\n",
    "print(270000*0.06)\n",
    "d3 = np.random.randint(0,10,4)\n",
    "print(d3)\n",
    "print(np.argsort(d3))\n",
    "print(np.corrcoef(d3))\n",
    "# print(help(np.corrcoef))\n",
    "d3 = np.random.randint(0,10,(4,5))\n",
    "print(d3)\n",
    "isweep = np.array([3,4,2,4])\n",
    "index1 = np.arange(0,ma) "
   ]
  },
  {
   "cell_type": "code",
   "execution_count": 549,
   "id": "d83010ad-53e5-46b8-9cc0-342dc9629262",
   "metadata": {},
   "outputs": [
    {
     "name": "stdout",
     "output_type": "stream",
     "text": [
      "0.0013498980316301035\n",
      "0.0013498980316300933\n",
      "0.36944134018176367\n",
      "{'name': 'me', 'age': 44} {'name': 'I', 'age': 44}\n",
      "[4.69558249]\n",
      "20.0\n",
      "-7.3777589082278725\n",
      "0.003989422804014327\n"
     ]
    }
   ],
   "source": [
    "# print(norm.cdf(3))\n",
    "print(1-norm.cdf(3))\n",
    "print(norm.cdf(-3))\n",
    "print(norm(4,3).cdf(3))\n",
    "a = {\"name\":\"me\",\"age\":44}\n",
    "b = a.copy()\n",
    "b[\"name\"] = \"I\"\n",
    "print(a,b)\n",
    "a = np.array([1,2,3,4])\n",
    "b = np.array([1,2,2,4])\n",
    "a = a-a.mean()/a.std()\n",
    "b = b-b.mean()/b.std()\n",
    "print(np.correlate(a,b))\n",
    "print(120/6)\n",
    "a = []\n",
    "a.append(3)\n",
    "a.append(4)\n",
    "print(np.log(25e-3*25e-3))\n",
    "print(norm(-70,10*10).pdf(-70.0))"
   ]
  }
 ],
 "metadata": {
  "kernelspec": {
   "display_name": "Python 3",
   "language": "python",
   "name": "python3"
  },
  "language_info": {
   "codemirror_mode": {
    "name": "ipython",
    "version": 3
   },
   "file_extension": ".py",
   "mimetype": "text/x-python",
   "name": "python",
   "nbconvert_exporter": "python",
   "pygments_lexer": "ipython3",
   "version": "3.6.12"
  }
 },
 "nbformat": 4,
 "nbformat_minor": 5
}
